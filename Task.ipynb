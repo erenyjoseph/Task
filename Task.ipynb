{
 "cells": [
  {
   "cell_type": "code",
   "execution_count": 2,
   "id": "6e5d4fa6-f2e2-4cc6-a0cb-5647efbffb7e",
   "metadata": {},
   "outputs": [],
   "source": [
    "import openmc\n",
    "\n",
    "# Define fuel material with 4.5% enrichment of U-235\n",
    "fuel = openmc.Material(name=\"UO2 fuel (4.5% enriched)\")\n",
    "fuel.add_nuclide(\"U235\", 0.045)    \n",
    "fuel.add_nuclide(\"U238\", 0.955)    \n",
    "fuel.add_element(\"O\", 2)            \n",
    "fuel.set_density(\"g/cm3\", 10.5)    \n",
    "\n",
    "\n"
   ]
  },
  {
   "cell_type": "code",
   "execution_count": 3,
   "id": "a0c091e5-4252-4bc9-9795-e36972667ad9",
   "metadata": {},
   "outputs": [],
   "source": [
    "# Define moderator material with thermal scattering enabled\n",
    "moderator = openmc.Material(name=\"Light Water (H2O)\")\n",
    "moderator.add_element(\"H\", 2)     \n",
    "moderator.add_element(\"O\", 1)    \n",
    "moderator.set_density(\"g/cm3\", 1.0) \n",
    "moderator.add_s_alpha_beta(\"c_H_in_H2O\") \n",
    "\n",
    "\n",
    "\n"
   ]
  },
  {
   "cell_type": "code",
   "execution_count": 4,
   "id": "90616836-fa0c-4311-9818-d203e6182143",
   "metadata": {},
   "outputs": [],
   "source": [
    "materials = openmc.Materials([fuel, moderator])"
   ]
  },
  {
   "cell_type": "code",
   "execution_count": null,
   "id": "5406ee6e-89e5-497c-b8ed-cbde11bf844e",
   "metadata": {},
   "outputs": [],
   "source": []
  }
 ],
 "metadata": {
  "kernelspec": {
   "display_name": "Python 3 (ipykernel)",
   "language": "python",
   "name": "python3"
  },
  "language_info": {
   "codemirror_mode": {
    "name": "ipython",
    "version": 3
   },
   "file_extension": ".py",
   "mimetype": "text/x-python",
   "name": "python",
   "nbconvert_exporter": "python",
   "pygments_lexer": "ipython3",
   "version": "3.11.2"
  }
 },
 "nbformat": 4,
 "nbformat_minor": 5
}
